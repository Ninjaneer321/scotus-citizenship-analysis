{
 "cells": [
  {
   "cell_type": "code",
   "execution_count": 4,
   "metadata": {},
   "outputs": [],
   "source": [
    "import re;\n",
    "import pandas as pd;\n",
    "import geopandas as gpd;\n",
    "import numpy as np;\n",
    "\n",
    "raw_dir='raw_data/'\n",
    "edits_dir='edits/'\n",
    "pre_edits_dir='pre_edits_hard_to_count/'\n",
    "output_dir='output/'\n",
    "\n",
    "# Low response scores by tract shapefile\n",
    "df_tracts_shp_raw = gpd.read_file(pre_edits_dir + 'h_tx_all_tracts_urban_scores_pop_trim.shp')\n",
    "\n",
    "# Low response scores by tract csv\n",
    "df_tracts = pd.read_csv(pre_edits_dir + 'tx_tracts_scores.csv')"
   ]
  },
  {
   "cell_type": "code",
   "execution_count": 5,
   "metadata": {},
   "outputs": [
    {
     "name": "stdout",
     "output_type": "stream",
     "text": [
      "done simplifying\n"
     ]
    }
   ],
   "source": [
    "# Convert low response column in to float\n",
    "df_tracts_shp_raw['LOW_RESPON'] = df_tracts_shp_raw['LOW_RESPON'].astype('float')\n",
    "\n",
    "df_tracts_shp_raw.to_file(pre_edits_dir + 'h_tx_all_tracts_urban_scores_pop_trim.shp')\n",
    "df_tracts_shp_raw.simplify(.0005).to_file(output_dir + 'geo/tx_tracts_simplify.geojson', driver='GeoJSON')\n",
    "\n",
    "print('done simplifying')"
   ]
  },
  {
   "cell_type": "code",
   "execution_count": null,
   "metadata": {},
   "outputs": [],
   "source": []
  }
 ],
 "metadata": {
  "kernelspec": {
   "display_name": "Python 3",
   "language": "python",
   "name": "python3"
  },
  "language_info": {
   "codemirror_mode": {
    "name": "ipython",
    "version": 3
   },
   "file_extension": ".py",
   "mimetype": "text/x-python",
   "name": "python",
   "nbconvert_exporter": "python",
   "pygments_lexer": "ipython3",
   "version": "3.7.3"
  }
 },
 "nbformat": 4,
 "nbformat_minor": 2
}
